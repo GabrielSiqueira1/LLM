{
 "cells": [
  {
   "cell_type": "markdown",
   "id": "fc2d533b-accf-455f-9d24-9d2c3f5ef22c",
   "metadata": {},
   "source": [
    "O principal problema abordado neste arquivo é o processo de enconding e como este pode utilizar muito processamento da máquina. Mesmo que use grande poder de processamento, tal método ainda pode ser utilizado para resolução de problemas."
   ]
  },
  {
   "cell_type": "code",
   "execution_count": 1,
   "id": "111cd9e9-1e43-4734-9d4d-66c3ccd8f617",
   "metadata": {},
   "outputs": [
    {
     "name": "stdout",
     "output_type": "stream",
     "text": [
      "[' ', '?', 'H', 'a', 'b', 'd', 'e', 'i', 'j', 'm', 'o', 'u', 'é']\n"
     ]
    }
   ],
   "source": [
    "# Primeira tarefa: Separar o texto em pequenos caracteres\n",
    "\n",
    "texto = 'Hoje é um dia bom?'\n",
    "caracteres = sorted(list(set(texto))) # Essa linha de código tem por objetivo armazenar o texto em um conjunto, a posteriori, colocá-los em uma lista e por fim organizá-lo\n",
    "print(caracteres)"
   ]
  },
  {
   "cell_type": "code",
   "execution_count": null,
   "id": "72e0e976-099d-4cbc-a716-10b505d7e7a2",
   "metadata": {},
   "outputs": [],
   "source": [
    "# Segunda tarefa: "
   ]
  }
 ],
 "metadata": {
  "kernelspec": {
   "display_name": "Python 3 (ipykernel)",
   "language": "python",
   "name": "python3"
  },
  "language_info": {
   "codemirror_mode": {
    "name": "ipython",
    "version": 3
   },
   "file_extension": ".py",
   "mimetype": "text/x-python",
   "name": "python",
   "nbconvert_exporter": "python",
   "pygments_lexer": "ipython3",
   "version": "3.12.3"
  }
 },
 "nbformat": 4,
 "nbformat_minor": 5
}
